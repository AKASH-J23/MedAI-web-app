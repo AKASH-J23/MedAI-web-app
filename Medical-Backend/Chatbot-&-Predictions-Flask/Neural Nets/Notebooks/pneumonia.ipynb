{
 "cells": [
  {
   "cell_type": "code",
   "execution_count": 1,
   "id": "c6014f8c",
   "metadata": {
    "scrolled": true
   },
   "outputs": [
    {
     "name": "stdout",
     "output_type": "stream",
     "text": [
      "WARNING:tensorflow:From D:\\Anaconda\\Lib\\site-packages\\keras\\src\\losses.py:2976: The name tf.losses.sparse_softmax_cross_entropy is deprecated. Please use tf.compat.v1.losses.sparse_softmax_cross_entropy instead.\n",
      "\n"
     ]
    }
   ],
   "source": [
    "from tensorflow.keras.applications.resnet50 import preprocess_input,decode_predictions\n",
    "from tensorflow.keras.preprocessing.image import ImageDataGenerator,load_img\n",
    "from tensorflow.keras.applications.resnet50 import ResNet50\n",
    "from tensorflow.keras.preprocessing import image\n",
    "from tensorflow.keras.models import Sequential,Model\n",
    "import matplotlib.pyplot as plt\n",
    "import numpy as np\n",
    "import pandas as pd \n",
    "import cv2\n",
    "import PIL.Image as Image\n",
    "import os\n",
    "import matplotlib.pylab as plt\n",
    "import tensorflow as tf\n",
    "import tensorflow_hub as hub\n",
    "from tensorflow import keras\n",
    "from tensorflow.keras import layers\n",
    "from tensorflow.keras.models import Sequential\n",
    "import pathlib"
   ]
  },
  {
   "cell_type": "code",
   "execution_count": 3,
   "id": "a39d9996",
   "metadata": {},
   "outputs": [
    {
     "name": "stdout",
     "output_type": "stream",
     "text": [
      "Found 4925 images belonging to 2 classes.\n",
      "Found 1166 images belonging to 2 classes.\n",
      "Found 1168 images belonging to 2 classes.\n"
     ]
    }
   ],
   "source": [
    "img_height=300\n",
    "img_width=300\n",
    "input_shape = (img_height,img_width, 3)\n",
    "\n",
    "train_datagenerator = ImageDataGenerator(rescale = 1./255)\n",
    "validation_datagenerator = ImageDataGenerator(rescale = 1./255)\n",
    "\n",
    "train_generator = train_datagenerator.flow_from_directory(r'C:\\Users\\AKASH J\\Desktop\\MedAPP\\Medical-Backend\\Chatbot-&-Predictions-Flask\\Neural Nets\\datasets\\pneumonia\\train', batch_size = 32, class_mode='binary', target_size=(img_height, img_width))\n",
    "validation_generator = validation_datagenerator.flow_from_directory(r'C:\\Users\\AKASH J\\Desktop\\MedAPP\\Medical-Backend\\Chatbot-&-Predictions-Flask\\Neural Nets\\datasets\\pneumonia\\validate', batch_size = 1, class_mode='binary', target_size=(img_height, img_width), shuffle=True)\n",
    "test_generator = validation_datagenerator.flow_from_directory(r'C:\\Users\\AKASH J\\Desktop\\MedAPP\\Medical-Backend\\Chatbot-&-Predictions-Flask\\Neural Nets\\datasets\\pneumonia\\test', batch_size = 1, class_mode='binary', target_size=(img_height, img_width))"
   ]
  },
  {
   "cell_type": "code",
   "execution_count": 4,
   "id": "d23888b2",
   "metadata": {},
   "outputs": [],
   "source": [
    "resnet=\"https://kaggle.com/models/tensorflow/resnet-50/frameworks/TensorFlow2/variations/feature-vector/versions/1\"\n",
    "resnet_model=hub.KerasLayer(resnet, input_shape=(224, 224, 3),trainable=False)\n",
    "num_of_classes = 2\n",
    "model = tf.keras.Sequential([\n",
    "  resnet_model,\n",
    "  tf.keras.layers.Dense(num_of_classes,activation=\"sigmoid\")\n",
    "])"
   ]
  },
  {
   "cell_type": "code",
   "execution_count": 5,
   "id": "3901b283",
   "metadata": {},
   "outputs": [],
   "source": [
    "from tensorflow.keras.callbacks import EarlyStopping\n",
    "early_stop= EarlyStopping(monitor='val_loss',mode='min',verbose=1,patience=5)"
   ]
  },
  {
   "cell_type": "code",
   "execution_count": null,
   "id": "1e21cfa4",
   "metadata": {
    "scrolled": true
   },
   "outputs": [
    {
     "name": "stdout",
     "output_type": "stream",
     "text": [
      "Epoch 1/30\n",
      "154/154 [==============================] - 793s 5s/step - loss: 0.1555 - acc: 0.9486 - val_loss: 0.1523 - val_acc: 0.9520\n",
      "Epoch 2/30\n",
      "154/154 [==============================] - 824s 5s/step - loss: 0.1365 - acc: 0.9545 - val_loss: 0.1471 - val_acc: 0.9537\n",
      "Epoch 3/30\n",
      " 39/154 [======>.......................] - ETA: 7:21 - loss: 0.1160 - acc: 0.9599"
     ]
    }
   ],
   "source": [
    "model.compile(optimizer=\"adam\", loss=tf.keras.losses.SparseCategoricalCrossentropy(from_logits=True),metrics=['acc'])\n",
    "history=model.fit(train_generator, epochs=30,batch_size=32,callbacks=[early_stop],validation_data=validation_generator)"
   ]
  },
  {
   "cell_type": "code",
   "execution_count": null,
   "id": "4ea64f45",
   "metadata": {},
   "outputs": [],
   "source": []
  }
 ],
 "metadata": {
  "kernelspec": {
   "display_name": "Python 3 (ipykernel)",
   "language": "python",
   "name": "python3"
  },
  "language_info": {
   "codemirror_mode": {
    "name": "ipython",
    "version": 3
   },
   "file_extension": ".py",
   "mimetype": "text/x-python",
   "name": "python",
   "nbconvert_exporter": "python",
   "pygments_lexer": "ipython3",
   "version": "3.11.5"
  }
 },
 "nbformat": 4,
 "nbformat_minor": 5
}
