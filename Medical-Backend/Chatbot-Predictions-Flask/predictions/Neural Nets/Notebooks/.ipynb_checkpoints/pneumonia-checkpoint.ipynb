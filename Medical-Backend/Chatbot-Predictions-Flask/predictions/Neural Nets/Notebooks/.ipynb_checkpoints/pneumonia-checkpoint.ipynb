{
 "cells": [
  {
   "cell_type": "code",
   "execution_count": 1,
   "id": "c6014f8c",
   "metadata": {
    "scrolled": true
   },
   "outputs": [
    {
     "name": "stdout",
     "output_type": "stream",
     "text": [
      "WARNING:tensorflow:From D:\\Anaconda\\Lib\\site-packages\\keras\\src\\losses.py:2976: The name tf.losses.sparse_softmax_cross_entropy is deprecated. Please use tf.compat.v1.losses.sparse_softmax_cross_entropy instead.\n",
      "\n"
     ]
    }
   ],
   "source": [
    "from tensorflow.keras.applications.resnet50 import preprocess_input,decode_predictions\n",
    "from tensorflow.keras.preprocessing.image import ImageDataGenerator,load_img\n",
    "from tensorflow.keras.applications.resnet50 import ResNet50\n",
    "from tensorflow.keras.preprocessing import image\n",
    "from tensorflow.keras.models import Sequential,Model\n",
    "import matplotlib.pyplot as plt\n",
    "import numpy as np\n",
    "import pandas as pd \n",
    "import cv2\n",
    "import PIL.Image as Image\n",
    "import os\n",
    "import matplotlib.pylab as plt\n",
    "import tensorflow as tf\n",
    "import tensorflow_hub as hub\n",
    "from tensorflow import keras\n",
    "from tensorflow.keras import layers\n",
    "from tensorflow.keras.models import Sequential\n",
    "import pathlib"
   ]
  },
  {
   "cell_type": "code",
   "execution_count": 3,
   "id": "a39d9996",
   "metadata": {},
   "outputs": [
    {
     "name": "stdout",
     "output_type": "stream",
     "text": [
      "Found 4925 images belonging to 2 classes.\n",
      "Found 1166 images belonging to 2 classes.\n",
      "Found 1168 images belonging to 2 classes.\n"
     ]
    }
   ],
   "source": [
    "img_height=300\n",
    "img_width=300\n",
    "input_shape = (img_height,img_width, 3)\n",
    "\n",
    "train_datagenerator = ImageDataGenerator(rescale = 1./255)\n",
    "validation_datagenerator = ImageDataGenerator(rescale = 1./255)\n",
    "\n",
    "train_generator = train_datagenerator.flow_from_directory(r'C:\\Users\\AKASH J\\Desktop\\MedAPP\\Medical-Backend\\Chatbot-&-Predictions-Flask\\Neural Nets\\datasets\\pneumonia\\train', batch_size = 32, class_mode='binary', target_size=(img_height, img_width))\n",
    "validation_generator = validation_datagenerator.flow_from_directory(r'C:\\Users\\AKASH J\\Desktop\\MedAPP\\Medical-Backend\\Chatbot-&-Predictions-Flask\\Neural Nets\\datasets\\pneumonia\\validate', batch_size = 1, class_mode='binary', target_size=(img_height, img_width), shuffle=True)\n",
    "test_generator = validation_datagenerator.flow_from_directory(r'C:\\Users\\AKASH J\\Desktop\\MedAPP\\Medical-Backend\\Chatbot-&-Predictions-Flask\\Neural Nets\\datasets\\pneumonia\\test', batch_size = 1, class_mode='binary', target_size=(img_height, img_width))"
   ]
  },
  {
   "cell_type": "code",
   "execution_count": 4,
   "id": "fc7eda06",
   "metadata": {},
   "outputs": [],
   "source": [
    "resnet=\"https://kaggle.com/models/tensorflow/resnet-50/frameworks/TensorFlow2/variations/feature-vector/versions/1\"\n",
    "resnet_model=hub.KerasLayer(resnet, input_shape=(224, 224, 3),trainable=False)\n",
    "num_of_classes = 2\n",
    "model = tf.keras.Sequential([\n",
    "  resnet_model,\n",
    "  tf.keras.layers.Dense(num_of_classes,activation=\"sigmoid\")\n",
    "])"
   ]
  },
  {
   "cell_type": "code",
   "execution_count": 5,
   "id": "675d7305",
   "metadata": {},
   "outputs": [],
   "source": [
    "from tensorflow.keras.callbacks import EarlyStopping\n",
    "early_stop= EarlyStopping(monitor='val_loss',mode='min',verbose=1,patience=5)"
   ]
  },
  {
   "cell_type": "code",
   "execution_count": null,
   "id": "dab061ed",
   "metadata": {
    "scrolled": false
   },
   "outputs": [
    {
     "name": "stdout",
     "output_type": "stream",
     "text": [
      "Epoch 1/30\n",
      "154/154 [==============================] - 793s 5s/step - loss: 0.1555 - acc: 0.9486 - val_loss: 0.1523 - val_acc: 0.9520\n",
      "Epoch 2/30\n",
      "154/154 [==============================] - 824s 5s/step - loss: 0.1365 - acc: 0.9545 - val_loss: 0.1471 - val_acc: 0.9537\n",
      "Epoch 3/30\n",
      "154/154 [==============================] - 741s 5s/step - loss: 0.1237 - acc: 0.9580 - val_loss: 0.1408 - val_acc: 0.9563\n",
      "Epoch 4/30\n",
      "154/154 [==============================] - 721s 5s/step - loss: 0.1194 - acc: 0.9596 - val_loss: 0.1330 - val_acc: 0.9554\n",
      "Epoch 5/30\n",
      "154/154 [==============================] - 726s 5s/step - loss: 0.1103 - acc: 0.9639 - val_loss: 0.1359 - val_acc: 0.9545\n",
      "Epoch 6/30\n",
      "154/154 [==============================] - 727s 5s/step - loss: 0.1056 - acc: 0.9647 - val_loss: 0.1325 - val_acc: 0.9571\n",
      "Epoch 7/30\n",
      "154/154 [==============================] - 733s 5s/step - loss: 0.0981 - acc: 0.9693 - val_loss: 0.1300 - val_acc: 0.9563\n",
      "Epoch 8/30\n",
      "154/154 [==============================] - 712s 5s/step - loss: 0.0973 - acc: 0.9661 - val_loss: 0.1358 - val_acc: 0.9537\n",
      "Epoch 9/30\n",
      "154/154 [==============================] - 714s 5s/step - loss: 0.0981 - acc: 0.9665 - val_loss: 0.1292 - val_acc: 0.9571\n",
      "Epoch 10/30\n",
      "154/154 [==============================] - 709s 5s/step - loss: 0.0896 - acc: 0.9693 - val_loss: 0.1276 - val_acc: 0.9571\n",
      "Epoch 11/30\n",
      "154/154 [==============================] - 704s 5s/step - loss: 0.0884 - acc: 0.9704 - val_loss: 0.1269 - val_acc: 0.9605\n",
      "Epoch 12/30\n",
      "154/154 [==============================] - 712s 5s/step - loss: 0.0811 - acc: 0.9720 - val_loss: 0.1253 - val_acc: 0.9571\n",
      "Epoch 13/30\n",
      "154/154 [==============================] - 708s 5s/step - loss: 0.0910 - acc: 0.9675 - val_loss: 0.1288 - val_acc: 0.9614\n",
      "Epoch 14/30\n",
      "154/154 [==============================] - 721s 5s/step - loss: 0.0813 - acc: 0.9712 - val_loss: 0.1285 - val_acc: 0.9597\n",
      "Epoch 15/30\n",
      "154/154 [==============================] - 717s 5s/step - loss: 0.0744 - acc: 0.9746 - val_loss: 0.1207 - val_acc: 0.9623\n",
      "Epoch 16/30\n",
      "154/154 [==============================] - 724s 5s/step - loss: 0.0767 - acc: 0.9732 - val_loss: 0.1237 - val_acc: 0.9580\n",
      "Epoch 17/30\n",
      "154/154 [==============================] - 734s 5s/step - loss: 0.0726 - acc: 0.9766 - val_loss: 0.1397 - val_acc: 0.9511\n",
      "Epoch 18/30\n",
      "154/154 [==============================] - 779s 5s/step - loss: 0.0675 - acc: 0.9775 - val_loss: 0.1190 - val_acc: 0.9605\n",
      "Epoch 19/30\n",
      "154/154 [==============================] - 791s 5s/step - loss: 0.0700 - acc: 0.9777 - val_loss: 0.1207 - val_acc: 0.9623\n",
      "Epoch 20/30\n",
      "154/154 [==============================] - 767s 5s/step - loss: 0.0666 - acc: 0.9775 - val_loss: 0.1469 - val_acc: 0.9485\n",
      "Epoch 21/30\n",
      "154/154 [==============================] - 753s 5s/step - loss: 0.0655 - acc: 0.9775 - val_loss: 0.1210 - val_acc: 0.9614\n",
      "Epoch 22/30\n",
      "154/154 [==============================] - 756s 5s/step - loss: 0.0624 - acc: 0.9789 - val_loss: 0.1290 - val_acc: 0.9605\n",
      "Epoch 23/30\n",
      "  7/154 [>.............................] - ETA: 8:52 - loss: 0.0439 - acc: 0.9866"
     ]
    }
   ],
   "source": [
    "model.compile(optimizer=\"adam\", loss=tf.keras.losses.SparseCategoricalCrossentropy(from_logits=True),metrics=['acc'])\n",
    "history=model.fit(train_generator, epochs=30,batch_size=32,callbacks=[early_stop],validation_data=validation_generator)"
   ]
  },
  {
   "cell_type": "code",
   "execution_count": null,
   "id": "9f08b682",
   "metadata": {},
   "outputs": [],
   "source": [
    "model.save(\"Pneumonia_resnet.h5\")"
   ]
  }
 ],
 "metadata": {
  "kernelspec": {
   "display_name": "Python 3 (ipykernel)",
   "language": "python",
   "name": "python3"
  },
  "language_info": {
   "codemirror_mode": {
    "name": "ipython",
    "version": 3
   },
   "file_extension": ".py",
   "mimetype": "text/x-python",
   "name": "python",
   "nbconvert_exporter": "python",
   "pygments_lexer": "ipython3",
   "version": "3.11.5"
  }
 },
 "nbformat": 4,
 "nbformat_minor": 5
}
