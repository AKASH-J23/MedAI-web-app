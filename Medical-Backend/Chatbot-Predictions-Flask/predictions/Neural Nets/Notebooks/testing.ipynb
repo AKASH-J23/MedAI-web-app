{
 "cells": [
  {
   "cell_type": "code",
   "execution_count": 1,
   "id": "a7cd8cbd",
   "metadata": {},
   "outputs": [
    {
     "name": "stdout",
     "output_type": "stream",
     "text": [
      "WARNING:tensorflow:From D:\\Anaconda\\Lib\\site-packages\\keras\\src\\losses.py:2976: The name tf.losses.sparse_softmax_cross_entropy is deprecated. Please use tf.compat.v1.losses.sparse_softmax_cross_entropy instead.\n",
      "\n"
     ]
    }
   ],
   "source": [
    "import numpy as np\n",
    "import pandas as pd\n",
    "import cv2, os, random\n",
    "import tensorflow\n",
    "from tensorflow.keras.preprocessing.image import array_to_img, img_to_array, load_img\n",
    "from tensorflow.keras.preprocessing import image\n",
    "from tensorflow.keras.models import load_model"
   ]
  },
  {
   "cell_type": "code",
   "execution_count": 2,
   "id": "e6b5b810",
   "metadata": {},
   "outputs": [
    {
     "name": "stdout",
     "output_type": "stream",
     "text": [
      "WARNING:tensorflow:From D:\\Anaconda\\Lib\\site-packages\\keras\\src\\backend.py:1398: The name tf.executing_eagerly_outside_functions is deprecated. Please use tf.compat.v1.executing_eagerly_outside_functions instead.\n",
      "\n",
      "WARNING:tensorflow:From D:\\Anaconda\\Lib\\site-packages\\keras\\src\\layers\\pooling\\max_pooling2d.py:161: The name tf.nn.max_pool is deprecated. Please use tf.nn.max_pool2d instead.\n",
      "\n",
      "Model loaded. Start serving...\n"
     ]
    }
   ],
   "source": [
    "MODEL_PATH = r\"C:\\Users\\AKASH J\\Desktop\\MedAPP\\Medical-Backend\\Chatbot-Predictions-Flask\\predictions\\Neural Nets\\Models\\pneumonia\\sequential-pneumonia.h5\"\n",
    "model = load_model(MODEL_PATH)\n",
    "print('Model loaded. Start serving...')"
   ]
  },
  {
   "cell_type": "code",
   "execution_count": 46,
   "id": "a430c005",
   "metadata": {},
   "outputs": [
    {
     "name": "stdout",
     "output_type": "stream",
     "text": [
      "1/1 [==============================] - 0s 52ms/step\n",
      "0.033729404\n",
      "result = NORMAL\n"
     ]
    }
   ],
   "source": [
    "new_image_path = r\"C:\\Users\\AKASH J\\Desktop\\tuber\\TB_Chest_Radiography_Database\\Tuberculosis\\Tuberculosis-106.png\"\n",
    "test_image = image.load_img(new_image_path, target_size=(300, 300))\n",
    "test_image = image.img_to_array(test_image)\n",
    "test_image = np.expand_dims(test_image, axis=0)\n",
    "test_image = test_image / 255\n",
    "\n",
    "# Make prediction\n",
    "result = model.predict(test_image)\n",
    "\n",
    "# Interpret the result\n",
    "op = result[0,0]\n",
    "print(op)\n",
    "if op > 0.5:\n",
    "    print(\"result = PNEMONIA\")\n",
    "else:\n",
    "    print(\"result = NORMAL\")\n",
    "\n"
   ]
  },
  {
   "cell_type": "code",
   "execution_count": 9,
   "id": "a98651c2",
   "metadata": {},
   "outputs": [
    {
     "name": "stdout",
     "output_type": "stream",
     "text": [
      "Model Loaded\n"
     ]
    }
   ],
   "source": [
    "import pickle\n",
    "\n",
    "# Specify the path to your pickle file\n",
    "# pickle_file_path = r\"C:\\Users\\AKASH J\\Desktop\\MedAPP\\Medical-Backend\\Chatbot-&-Predictions-Flask\\predictions\\Machine Learning\\models\\diabetes-dt-model.pkl\"\n",
    "pickle_file_path = r\"C:\\Users\\AKASH J\\Desktop\\MedAPP\\Medical-Backend\\Chatbot-&-Predictions-Flask\\predictions\\Machine Learning\\models\\stroke-svm-mdel.pkl\"\n",
    "\n",
    "# Load data from the pickle file\n",
    "with open(pickle_file_path, 'rb') as file:\n",
    "    model = pickle.load(file)\n",
    "    print(\"Model Loaded\")"
   ]
  },
  {
   "cell_type": "code",
   "execution_count": null,
   "id": "d63517db",
   "metadata": {},
   "outputs": [],
   "source": []
  },
  {
   "cell_type": "code",
   "execution_count": 4,
   "id": "083f1f81",
   "metadata": {
    "collapsed": true
   },
   "outputs": [
    {
     "name": "stdout",
     "output_type": "stream",
     "text": [
      "Collecting scikit-learn==1.2.2\n",
      "  Downloading scikit_learn-1.2.2-cp311-cp311-win_amd64.whl (8.3 MB)\n",
      "     ---------------------------------------- 0.0/8.3 MB ? eta -:--:--\n",
      "     ---------------------------------------- 0.0/8.3 MB ? eta -:--:--\n",
      "     ---------------------------------------- 0.0/8.3 MB 435.7 kB/s eta 0:00:19\n",
      "      --------------------------------------- 0.1/8.3 MB 1.1 MB/s eta 0:00:08\n",
      "     - -------------------------------------- 0.3/8.3 MB 1.9 MB/s eta 0:00:05\n",
      "     -- ------------------------------------- 0.5/8.3 MB 2.3 MB/s eta 0:00:04\n",
      "     -- ------------------------------------- 0.6/8.3 MB 2.4 MB/s eta 0:00:04\n",
      "     --- ------------------------------------ 0.8/8.3 MB 2.6 MB/s eta 0:00:03\n",
      "     ---- ----------------------------------- 0.9/8.3 MB 2.7 MB/s eta 0:00:03\n",
      "     ----- ---------------------------------- 1.2/8.3 MB 2.9 MB/s eta 0:00:03\n",
      "     ------ --------------------------------- 1.4/8.3 MB 3.1 MB/s eta 0:00:03\n",
      "     ------- -------------------------------- 1.5/8.3 MB 3.1 MB/s eta 0:00:03\n",
      "     -------- ------------------------------- 1.8/8.3 MB 3.3 MB/s eta 0:00:02\n",
      "     --------- ------------------------------ 2.0/8.3 MB 3.5 MB/s eta 0:00:02\n",
      "     ---------- ----------------------------- 2.3/8.3 MB 3.6 MB/s eta 0:00:02\n",
      "     ------------ --------------------------- 2.5/8.3 MB 3.7 MB/s eta 0:00:02\n",
      "     ------------- -------------------------- 2.8/8.3 MB 3.9 MB/s eta 0:00:02\n",
      "     -------------- ------------------------- 2.9/8.3 MB 3.8 MB/s eta 0:00:02\n",
      "     -------------- ------------------------- 3.1/8.3 MB 3.8 MB/s eta 0:00:02\n",
      "     ---------------- ----------------------- 3.3/8.3 MB 3.9 MB/s eta 0:00:02\n",
      "     ----------------- ---------------------- 3.6/8.3 MB 4.0 MB/s eta 0:00:02\n",
      "     ------------------ --------------------- 3.9/8.3 MB 4.1 MB/s eta 0:00:02\n",
      "     -------------------- ------------------- 4.2/8.3 MB 4.2 MB/s eta 0:00:01\n",
      "     -------------------- ------------------- 4.3/8.3 MB 4.1 MB/s eta 0:00:01\n",
      "     ---------------------- ----------------- 4.6/8.3 MB 4.2 MB/s eta 0:00:01\n",
      "     ----------------------- ---------------- 4.9/8.3 MB 4.3 MB/s eta 0:00:01\n",
      "     ------------------------ --------------- 5.2/8.3 MB 4.3 MB/s eta 0:00:01\n",
      "     -------------------------- ------------- 5.5/8.3 MB 4.4 MB/s eta 0:00:01\n",
      "     --------------------------- ------------ 5.6/8.3 MB 4.4 MB/s eta 0:00:01\n",
      "     ---------------------------- ----------- 5.9/8.3 MB 4.5 MB/s eta 0:00:01\n",
      "     ------------------------------ --------- 6.2/8.3 MB 4.5 MB/s eta 0:00:01\n",
      "     ------------------------------ --------- 6.4/8.3 MB 4.5 MB/s eta 0:00:01\n",
      "     -------------------------------- ------- 6.7/8.3 MB 4.5 MB/s eta 0:00:01\n",
      "     --------------------------------- ------ 7.0/8.3 MB 4.6 MB/s eta 0:00:01\n",
      "     ----------------------------------- ---- 7.2/8.3 MB 4.6 MB/s eta 0:00:01\n",
      "     ------------------------------------ --- 7.5/8.3 MB 4.6 MB/s eta 0:00:01\n",
      "     ------------------------------------- -- 7.8/8.3 MB 4.7 MB/s eta 0:00:01\n",
      "     -------------------------------------- - 7.9/8.3 MB 4.6 MB/s eta 0:00:01\n",
      "     ---------------------------------------  8.2/8.3 MB 4.7 MB/s eta 0:00:01\n",
      "     ---------------------------------------  8.3/8.3 MB 4.7 MB/s eta 0:00:01\n",
      "     ---------------------------------------- 8.3/8.3 MB 4.5 MB/s eta 0:00:00\n",
      "Requirement already satisfied: numpy>=1.17.3 in d:\\anaconda\\lib\\site-packages (from scikit-learn==1.2.2) (1.24.3)\n",
      "Requirement already satisfied: scipy>=1.3.2 in d:\\anaconda\\lib\\site-packages (from scikit-learn==1.2.2) (1.11.1)\n",
      "Requirement already satisfied: joblib>=1.1.1 in d:\\anaconda\\lib\\site-packages (from scikit-learn==1.2.2) (1.2.0)\n",
      "Requirement already satisfied: threadpoolctl>=2.0.0 in d:\\anaconda\\lib\\site-packages (from scikit-learn==1.2.2) (2.2.0)\n",
      "Installing collected packages: scikit-learn\n",
      "  Attempting uninstall: scikit-learn\n",
      "    Found existing installation: scikit-learn 1.3.0\n",
      "    Uninstalling scikit-learn-1.3.0:\n",
      "      Successfully uninstalled scikit-learn-1.3.0\n",
      "Note: you may need to restart the kernel to use updated packages.\n"
     ]
    },
    {
     "name": "stderr",
     "output_type": "stream",
     "text": [
      "ERROR: Could not install packages due to an OSError: [WinError 5] Access is denied: 'D:\\\\Anaconda\\\\Lib\\\\site-packages\\\\~klearn\\\\decomposition\\\\_cdnmf_fast.cp311-win_amd64.pyd'\n",
      "Consider using the `--user` option or check the permissions.\n",
      "\n"
     ]
    }
   ],
   "source": [
    "pip install scikit-learn==1.2.2"
   ]
  },
  {
   "cell_type": "code",
   "execution_count": 4,
   "id": "ff3d16e2",
   "metadata": {},
   "outputs": [],
   "source": [
    "from sklearn.preprocessing import StandardScaler"
   ]
  },
  {
   "cell_type": "code",
   "execution_count": 8,
   "id": "a77840bd",
   "metadata": {},
   "outputs": [
    {
     "name": "stdout",
     "output_type": "stream",
     "text": [
      "[0]\n",
      "The Person does not have diabetes \n"
     ]
    },
    {
     "name": "stderr",
     "output_type": "stream",
     "text": [
      "D:\\Anaconda\\Lib\\site-packages\\sklearn\\base.py:439: UserWarning: X does not have valid feature names, but DecisionTreeClassifier was fitted with feature names\n",
      "  warnings.warn(\n"
     ]
    }
   ],
   "source": [
    "input_data = [[58,1,0,1,0,0,0,0,1,0,0,0]]\n",
    "\n",
    "\n",
    "# standardize the data\n",
    "# std_data = scaler.transform(input_data)\n",
    "\n",
    "prediction = model.predict(input_data)\n",
    "print(prediction)\n",
    "\n",
    "\n",
    "if (prediction[0] == 0):\n",
    "  print(\"The Person does not have diabetes \")\n",
    "\n",
    "else:\n",
    "  print(\"The Person has diabetes\")"
   ]
  },
  {
   "cell_type": "code",
   "execution_count": null,
   "id": "fc3f3a78",
   "metadata": {},
   "outputs": [],
   "source": [
    "def predict_diabetes(age, gender, polyuria, polydipsia, sudden_weight_loss, weakness, polyphagia, genital_thrush, visual_blurring, irritability, partial_paresis, alopecia):\n",
    "  features = [[age, gender, polyuria, polydipsia, sudden_weight_loss, weakness, polyphagia, genital_thrush, visual_blurring, irritability, partial_paresis, alopecia]]\n",
    "  with open('model.pkl', 'rb') as file:\n",
    "    model = pickle.load(file)\n",
    "  prediction = model.predict(features)\n",
    "  if prediction[0] == 1:\n",
    "    return \"Positive\"\n",
    "  else:\n",
    "    return \"Negative\""
   ]
  },
  {
   "cell_type": "code",
   "execution_count": 14,
   "id": "2c1d2524",
   "metadata": {},
   "outputs": [],
   "source": [
    "import pandas as pd\n",
    "from sklearn.preprocessing import LabelEncoder\n",
    "enc=LabelEncoder()"
   ]
  },
  {
   "cell_type": "code",
   "execution_count": 15,
   "id": "88526e28",
   "metadata": {},
   "outputs": [
    {
     "ename": "NotFittedError",
     "evalue": "This LabelEncoder instance is not fitted yet. Call 'fit' with appropriate arguments before using this estimator.",
     "output_type": "error",
     "traceback": [
      "\u001b[1;31m---------------------------------------------------------------------------\u001b[0m",
      "\u001b[1;31mNotFittedError\u001b[0m                            Traceback (most recent call last)",
      "Cell \u001b[1;32mIn[15], line 16\u001b[0m\n\u001b[0;32m      1\u001b[0m \u001b[38;5;66;03m# Single data point\u001b[39;00m\n\u001b[0;32m      2\u001b[0m data \u001b[38;5;241m=\u001b[39m {\n\u001b[0;32m      3\u001b[0m     \u001b[38;5;124m'\u001b[39m\u001b[38;5;124mgender\u001b[39m\u001b[38;5;124m'\u001b[39m: \u001b[38;5;124m'\u001b[39m\u001b[38;5;124mFemale\u001b[39m\u001b[38;5;124m'\u001b[39m,\n\u001b[0;32m      4\u001b[0m     \u001b[38;5;124m'\u001b[39m\u001b[38;5;124mage\u001b[39m\u001b[38;5;124m'\u001b[39m: \u001b[38;5;241m81\u001b[39m,\n\u001b[1;32m   (...)\u001b[0m\n\u001b[0;32m     13\u001b[0m     \u001b[38;5;124m'\u001b[39m\u001b[38;5;124mstroke\u001b[39m\u001b[38;5;124m'\u001b[39m: \u001b[38;5;241m1\u001b[39m\n\u001b[0;32m     14\u001b[0m }\n\u001b[1;32m---> 16\u001b[0m gender \u001b[38;5;241m=\u001b[39m enc\u001b[38;5;241m.\u001b[39mtransform(data[\u001b[38;5;124m'\u001b[39m\u001b[38;5;124mgender\u001b[39m\u001b[38;5;124m'\u001b[39m])\n\u001b[0;32m     17\u001b[0m smoking_status \u001b[38;5;241m=\u001b[39m enc\u001b[38;5;241m.\u001b[39mtransform(data[\u001b[38;5;124m'\u001b[39m\u001b[38;5;124msmoking_status\u001b[39m\u001b[38;5;124m'\u001b[39m])\n\u001b[0;32m     18\u001b[0m work_type \u001b[38;5;241m=\u001b[39m enc\u001b[38;5;241m.\u001b[39mtransform(data[\u001b[38;5;124m'\u001b[39m\u001b[38;5;124mwork_type\u001b[39m\u001b[38;5;124m'\u001b[39m])\n",
      "File \u001b[1;32mD:\\Anaconda\\Lib\\site-packages\\sklearn\\utils\\_set_output.py:140\u001b[0m, in \u001b[0;36m_wrap_method_output.<locals>.wrapped\u001b[1;34m(self, X, *args, **kwargs)\u001b[0m\n\u001b[0;32m    138\u001b[0m \u001b[38;5;129m@wraps\u001b[39m(f)\n\u001b[0;32m    139\u001b[0m \u001b[38;5;28;01mdef\u001b[39;00m \u001b[38;5;21mwrapped\u001b[39m(\u001b[38;5;28mself\u001b[39m, X, \u001b[38;5;241m*\u001b[39margs, \u001b[38;5;241m*\u001b[39m\u001b[38;5;241m*\u001b[39mkwargs):\n\u001b[1;32m--> 140\u001b[0m     data_to_wrap \u001b[38;5;241m=\u001b[39m f(\u001b[38;5;28mself\u001b[39m, X, \u001b[38;5;241m*\u001b[39margs, \u001b[38;5;241m*\u001b[39m\u001b[38;5;241m*\u001b[39mkwargs)\n\u001b[0;32m    141\u001b[0m     \u001b[38;5;28;01mif\u001b[39;00m \u001b[38;5;28misinstance\u001b[39m(data_to_wrap, \u001b[38;5;28mtuple\u001b[39m):\n\u001b[0;32m    142\u001b[0m         \u001b[38;5;66;03m# only wrap the first output for cross decomposition\u001b[39;00m\n\u001b[0;32m    143\u001b[0m         \u001b[38;5;28;01mreturn\u001b[39;00m (\n\u001b[0;32m    144\u001b[0m             _wrap_data_with_container(method, data_to_wrap[\u001b[38;5;241m0\u001b[39m], X, \u001b[38;5;28mself\u001b[39m),\n\u001b[0;32m    145\u001b[0m             \u001b[38;5;241m*\u001b[39mdata_to_wrap[\u001b[38;5;241m1\u001b[39m:],\n\u001b[0;32m    146\u001b[0m         )\n",
      "File \u001b[1;32mD:\\Anaconda\\Lib\\site-packages\\sklearn\\preprocessing\\_label.py:133\u001b[0m, in \u001b[0;36mLabelEncoder.transform\u001b[1;34m(self, y)\u001b[0m\n\u001b[0;32m    120\u001b[0m \u001b[38;5;28;01mdef\u001b[39;00m \u001b[38;5;21mtransform\u001b[39m(\u001b[38;5;28mself\u001b[39m, y):\n\u001b[0;32m    121\u001b[0m \u001b[38;5;250m    \u001b[39m\u001b[38;5;124;03m\"\"\"Transform labels to normalized encoding.\u001b[39;00m\n\u001b[0;32m    122\u001b[0m \n\u001b[0;32m    123\u001b[0m \u001b[38;5;124;03m    Parameters\u001b[39;00m\n\u001b[1;32m   (...)\u001b[0m\n\u001b[0;32m    131\u001b[0m \u001b[38;5;124;03m        Labels as normalized encodings.\u001b[39;00m\n\u001b[0;32m    132\u001b[0m \u001b[38;5;124;03m    \"\"\"\u001b[39;00m\n\u001b[1;32m--> 133\u001b[0m     check_is_fitted(\u001b[38;5;28mself\u001b[39m)\n\u001b[0;32m    134\u001b[0m     y \u001b[38;5;241m=\u001b[39m column_or_1d(y, dtype\u001b[38;5;241m=\u001b[39m\u001b[38;5;28mself\u001b[39m\u001b[38;5;241m.\u001b[39mclasses_\u001b[38;5;241m.\u001b[39mdtype, warn\u001b[38;5;241m=\u001b[39m\u001b[38;5;28;01mTrue\u001b[39;00m)\n\u001b[0;32m    135\u001b[0m     \u001b[38;5;66;03m# transform of empty array is empty array\u001b[39;00m\n",
      "File \u001b[1;32mD:\\Anaconda\\Lib\\site-packages\\sklearn\\utils\\validation.py:1390\u001b[0m, in \u001b[0;36mcheck_is_fitted\u001b[1;34m(estimator, attributes, msg, all_or_any)\u001b[0m\n\u001b[0;32m   1385\u001b[0m     fitted \u001b[38;5;241m=\u001b[39m [\n\u001b[0;32m   1386\u001b[0m         v \u001b[38;5;28;01mfor\u001b[39;00m v \u001b[38;5;129;01min\u001b[39;00m \u001b[38;5;28mvars\u001b[39m(estimator) \u001b[38;5;28;01mif\u001b[39;00m v\u001b[38;5;241m.\u001b[39mendswith(\u001b[38;5;124m\"\u001b[39m\u001b[38;5;124m_\u001b[39m\u001b[38;5;124m\"\u001b[39m) \u001b[38;5;129;01mand\u001b[39;00m \u001b[38;5;129;01mnot\u001b[39;00m v\u001b[38;5;241m.\u001b[39mstartswith(\u001b[38;5;124m\"\u001b[39m\u001b[38;5;124m__\u001b[39m\u001b[38;5;124m\"\u001b[39m)\n\u001b[0;32m   1387\u001b[0m     ]\n\u001b[0;32m   1389\u001b[0m \u001b[38;5;28;01mif\u001b[39;00m \u001b[38;5;129;01mnot\u001b[39;00m fitted:\n\u001b[1;32m-> 1390\u001b[0m     \u001b[38;5;28;01mraise\u001b[39;00m NotFittedError(msg \u001b[38;5;241m%\u001b[39m {\u001b[38;5;124m\"\u001b[39m\u001b[38;5;124mname\u001b[39m\u001b[38;5;124m\"\u001b[39m: \u001b[38;5;28mtype\u001b[39m(estimator)\u001b[38;5;241m.\u001b[39m\u001b[38;5;18m__name__\u001b[39m})\n",
      "\u001b[1;31mNotFittedError\u001b[0m: This LabelEncoder instance is not fitted yet. Call 'fit' with appropriate arguments before using this estimator."
     ]
    }
   ],
   "source": [
    "# Single data point\n",
    "data = {\n",
    "    'gender': 'Female',\n",
    "    'age': 81,\n",
    "    'hypertension': 1,\n",
    "    'heart_disease': 0,\n",
    "    'ever_married': 'Yes',\n",
    "    'work_type': 'Private',\n",
    "    'Residence_type': 'Rural',\n",
    "    'avg_glucose_level': 80.43,\n",
    "    'bmi': 29.7,\n",
    "    'smoking_status': 'never smoked',\n",
    "    'stroke': 1\n",
    "}\n",
    "\n",
    "gender = enc.transform(data['gender'])\n",
    "smoking_status = enc.transform(data['smoking_status'])\n",
    "work_type = enc.transform(data['work_type'])\n",
    "Residence_type = enc.transform(data['Residence_type'])\n",
    "ever_married = enc.transform(data['ever_married'])\n",
    "\n",
    "  # Update data with encoded features\n",
    "data['work_type'] = work_type\n",
    "data['ever_married'] = ever_married\n",
    "data['Residence_type'] = Residence_type\n",
    "data['smoking_status'] = smoking_status\n",
    "data['gender'] = gender\n",
    "\n",
    "  # Drop ID column\n",
    "# data.drop('id', axis=1, inplace=True)\n",
    "\n",
    "  # Standardize data\n",
    "data_std = std.transform(data)\n",
    "\n",
    "  # Make prediction\n",
    "prediction = model.predict(data_std)"
   ]
  }
 ],
 "metadata": {
  "kernelspec": {
   "display_name": "Python 3 (ipykernel)",
   "language": "python",
   "name": "python3"
  },
  "language_info": {
   "codemirror_mode": {
    "name": "ipython",
    "version": 3
   },
   "file_extension": ".py",
   "mimetype": "text/x-python",
   "name": "python",
   "nbconvert_exporter": "python",
   "pygments_lexer": "ipython3",
   "version": "3.11.5"
  }
 },
 "nbformat": 4,
 "nbformat_minor": 5
}
